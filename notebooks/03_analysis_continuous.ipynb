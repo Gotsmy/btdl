{
 "cells": [
  {
   "cell_type": "code",
   "execution_count": 1,
   "id": "072361d3-eae7-44bb-b986-b246c1600377",
   "metadata": {
    "tags": []
   },
   "outputs": [],
   "source": [
    "import numpy as np\n",
    "import cobra\n",
    "import snek\n",
    "import matplotlib.pyplot as plt\n",
    "\n",
    "d4p3 = cobra.io.read_sbml_model(\"../models/ecoli_core_btdl_pathway.xml\")\n",
    "simulation_solutions = {}"
   ]
  },
  {
   "cell_type": "code",
   "execution_count": 2,
   "id": "37a7ed7b-321a-4fcf-80db-e1819d7572ca",
   "metadata": {
    "tags": []
   },
   "outputs": [],
   "source": [
    "def printer(text,bottom=False,top=False):\n",
    "    if top:\n",
    "        print(\"-\"*len(text))\n",
    "    print(text)\n",
    "    if bottom:\n",
    "        print(\"-\"*len(text))"
   ]
  },
  {
   "cell_type": "raw",
   "id": "f5947170-3ebd-4574-89b7-b69d1bb648c5",
   "metadata": {},
   "source": [
    "# Numerical Integration"
   ]
  },
  {
   "cell_type": "code",
   "execution_count": 3,
   "id": "d6406192-26a6-450b-96ff-dc1127559694",
   "metadata": {
    "tags": []
   },
   "outputs": [],
   "source": [
    "process_parameters = {}\n",
    "\n",
    "def pack_params(X0,Vdot,Gf,g1,g2,x1,x2,d1,d2,a1,a2,b1,b2):\n",
    "    params = dict(locals())\n",
    "    return params\n",
    "\n",
    "# DOUBLE 003\n",
    "X0 = 16.228935765758205\n",
    "Vdot = 0.18940000251797834\n",
    "Gf = 739.1651766008468\n",
    "g1, g2 = -6.747300067347728 , -1.8261309352974746\n",
    "x1, x2 = 0.18940000251797834 , 0.005342490889683391\n",
    "d1, d2 = 3.2634000261560967 , 1.3499999865803456\n",
    "a1, a2 = 1.883325718497557 , -1.8302019046198164\n",
    "b1, b2 = 1.3800743076585398 , 3.180201891200162\n",
    "process_parameters[\"conti_optP\"] = pack_params(X0,Vdot,Gf,g1,g2,x1,x2,d1,d2,a1,a2,b1,b2)\n",
    "process_parameters[\"conti_optP\"][\"input\"] = [X0,Vdot,Gf,g1,g2,x1,x2,d1,d2,a1,a2,b1,b2]\n",
    "process_parameters[\"conti_optP\"][\"t_end\"] = 100\n",
    "process_parameters[\"conti_optP\"][\"max_y\"] = 45\n",
    "process_parameters[\"conti_optP\"][\"id\"] = \"optP\"\n",
    "process_parameters[\"conti_optP\"][\"name\"] = r\"opt. $\\mathcal{P}$\"\n",
    "\n",
    "\n",
    "#A 0.002163525032336278 -4.49647970407026e-9\n",
    "#X 15.893897912129425 16.700000166864708\n",
    "#B 351.1125969867067 554.8096392794511\n",
    "#G 275.535943078261 6.537694265903616e-23\n",
    "#Objective 61.40646929198895\n",
    "#----------------\n",
    "X0 = 15.893897912129425\n",
    "Vdot = 0.11068024948474126\n",
    "Gf = 942.2165396238195\n",
    "g1, g2 = -4.642560003860788 , -1.8261309351615922\n",
    "x1, x2 = 0.11068024948474126 , 0.00534249088460123\n",
    "d1, d2 = 2.4450559268760204 , 1.349999986527513\n",
    "a1, a2 = 1.506612736971959e-5 , -1.4338921294868129e-5\n",
    "b1, b2 = 2.4450408607486507 , 1.350014325448808\n",
    "process_parameters[\"conti_optP_minT\"] = pack_params(X0,Vdot,Gf,g1,g2,x1,x2,d1,d2,a1,a2,b1,b2)\n",
    "process_parameters[\"conti_optP_minT\"][\"input\"] = [X0,Vdot,Gf,g1,g2,x1,x2,d1,d2,a1,a2,b1,b2]\n",
    "process_parameters[\"conti_optP_minT\"][\"t_end\"] = 100\n",
    "process_parameters[\"conti_optP_minT\"][\"max_y\"] = 70\n",
    "process_parameters[\"conti_optP_minT\"][\"id\"] = \"optP_minT\"\n",
    "process_parameters[\"conti_optP_minT\"][\"name\"] = r\"opt. $\\mathcal{P}$, min $\\mathcal{T}$\""
   ]
  },
  {
   "cell_type": "code",
   "execution_count": 4,
   "id": "5d00e51d-8c5a-4753-94a7-098cae69ebcf",
   "metadata": {
    "tags": []
   },
   "outputs": [],
   "source": [
    "def derivatives(t,I):\n",
    "    X1, X2, G1, G2, A1, A2, B1, B2 = I\n",
    "    X0,Vdot,Gf,g1,g2,x1,x2,d1,d2,a1,a2,b1,b2 = process_parameters[PROCESS_VERSION][\"input\"]\n",
    "    \n",
    "    dA1_dt = - Vdot*A1           + a1*X1\n",
    "    dA2_dt =   Vdot*A1 - Vdot*A2 + a2*X2\n",
    "    \n",
    "    dB1_dt = - Vdot*B1           + b1*X1\n",
    "    dB2_dt =   Vdot*B1 - Vdot*B2 + b2*X2\n",
    "    \n",
    "    dG1_dt = - Vdot*G1 + Vdot*Gf + g1*X1\n",
    "    dG2_dt =   Vdot*G1 - Vdot*G2 + g2*X2\n",
    "    \n",
    "    dX1_dt = - Vdot*X1           + x1*X1\n",
    "    dX2_dt =   Vdot*X1 - Vdot*X2 + x2*X2\n",
    "    \n",
    "    derivatives = [dX1_dt,dX2_dt,dG1_dt,dG2_dt,dA1_dt,dA2_dt,dB1_dt,dB2_dt]\n",
    "    return derivatives"
   ]
  },
  {
   "cell_type": "code",
   "execution_count": 5,
   "id": "b3bad129-089d-4b93-b7ac-6e9b2d9c7106",
   "metadata": {
    "tags": []
   },
   "outputs": [
    {
     "name": "stdout",
     "output_type": "stream",
     "text": [
      "conti_optP\n",
      "conti_optP_minT\n",
      "done\n"
     ]
    }
   ],
   "source": [
    "from scipy.integrate import solve_ivp\n",
    "\n",
    "for PROCESS_VERSION in [\"conti_optP\",\"conti_optP_minT\"]:\n",
    "    print(PROCESS_VERSION)\n",
    "\n",
    "    t_end = process_parameters[PROCESS_VERSION][\"t_end\"]\n",
    "    t_eval = np.linspace(0,t_end,int(1000+1))\n",
    "\n",
    "    I = [process_parameters[PROCESS_VERSION][\"X0\"],0,0,0,0,0,0,0]\n",
    "    sol = solve_ivp(derivatives, [0,t_end], I, t_eval=t_eval,rtol=1e-8,atol=1e-8,max_step=1)\n",
    "\n",
    "    def pack_params(tt,X1,X2,G1,G2,A1,A2,B1,B2):\n",
    "        params = dict(locals())\n",
    "        return params\n",
    "\n",
    "    tt = sol.t\n",
    "    X1 = sol.y[0,:]\n",
    "    X2 = sol.y[1,:]\n",
    "    G1 = sol.y[2,:]*d4p3.metabolites.glc__D_e.formula_weight/1000\n",
    "    G2 = sol.y[3,:]*d4p3.metabolites.glc__D_e.formula_weight/1000\n",
    "    A1 = sol.y[4,:]*d4p3.metabolites.acoin_c.formula_weight/1000\n",
    "    A2 = sol.y[5,:]*d4p3.metabolites.acoin_c.formula_weight/1000\n",
    "    B1 = sol.y[6,:]*d4p3.metabolites.bt23dl_c.formula_weight/1000\n",
    "    B2 = sol.y[7,:]*d4p3.metabolites.bt23dl_c.formula_weight/1000\n",
    "\n",
    "    process_parameters[PROCESS_VERSION][\"sol\"] = pack_params(tt,X1,X2,G1,G2,A1,A2,B1,B2)\n",
    "    process_parameters[PROCESS_VERSION][\"sol\"][\"input\"] = [tt,X1,X2,G1,G2,A1,A2,B1,B2]\n",
    "print(\"done\")"
   ]
  },
  {
   "cell_type": "markdown",
   "id": "4f5f3238-cdd1-4d32-9330-6597d47e1e3c",
   "metadata": {},
   "source": [
    "# FIGURE 7"
   ]
  },
  {
   "cell_type": "code",
   "execution_count": 6,
   "id": "a9fd719c-0010-4bb4-9551-ac6dc0598399",
   "metadata": {
    "tags": []
   },
   "outputs": [
    {
     "data": {
      "image/png": "[encoded data removed]",
      "text/plain": [
       "<Figure size 400x350 with 3 Axes>"
      ]
     },
     "metadata": {},
     "output_type": "display_data"
    }
   ],
   "source": [
    "plt.rcParams[\"text.usetex\"] = True\n",
    "plt.rcParams[\"font.family\"] = \"sans-serif\"\n",
    "plt.rcParams['text.latex.preamble'] = r'\\usepackage{sansmath}\\sansmath'\n",
    "\n",
    "    \n",
    "PROCESS_VERSION = \"conti_optP\"\n",
    "tt,X1,X2,G1,G2,A1,A2,B1,B2 = process_parameters[PROCESS_VERSION][\"sol\"][\"input\"]\n",
    "\n",
    "fig = plt.figure(dpi=100,figsize=(4,3.5))\n",
    "\n",
    "# Set the centered xlabel on the hidden subplot\n",
    "ax0 = fig.add_subplot(111, frame_on=False)\n",
    "ax0.tick_params(labelcolor='none', top=False, bottom=False, left=False, right=False)\n",
    "ax0.grid(False)\n",
    "ax0.set_xlabel('time in h')\n",
    "\n",
    "ax1 = fig.add_subplot(121)\n",
    "ax2 = fig.add_subplot(122)\n",
    "\n",
    "ax1.plot(tt,X1,label=r\"$X$\",color=\"k\")\n",
    "ax2.plot(tt,X2,color=\"k\")\n",
    "ax1.plot(tt,G1,label=r\"$G$\",color=\"#77a5b8\")\n",
    "ax2.plot(tt,G2,color=\"#77a5b8\")\n",
    "ax1.plot(tt,A1,label=r\"$A$\",color=\"#84993a\")\n",
    "ax2.plot(tt,A2,color=\"#84993a\")\n",
    "ax1.plot(tt,B1,label=r\"$B$\",color=\"#c39e08\")\n",
    "ax2.plot(tt,B2,color=\"#c39e08\")\n",
    "ax1.set_title(\"~~\\n~~\")\n",
    "\n",
    "ax1.set_ylabel(r\"concentrations in g\\;L$^{-1}$\")\n",
    "\n",
    "for ax in [ax1,ax2]:\n",
    "    ax.set_ylim(0,process_parameters[PROCESS_VERSION][\"max_y\"])\n",
    "    ax.set_xlim(0,process_parameters[PROCESS_VERSION][\"t_end\"])\n",
    "\n",
    "ax2.set_yticklabels([])\n",
    "\n",
    "# Panel Legends\n",
    "if process_parameters[PROCESS_VERSION][\"id\"] == \"optP\":\n",
    "    reactornames = ['Reactor 1\\naerobic','Reactor 2\\nmicroaerobic','C','D','E','F']\n",
    "elif process_parameters[PROCESS_VERSION][\"id\"] == \"optP_minT\":\n",
    "    reactornames = ['Reactor 1\\n','Reactor 2\\nmicroaerobic','C','D','E','F']\n",
    "elif process_parameters[PROCESS_VERSION][\"id\"] == \"optT\":\n",
    "    reactornames = ['Reactor 1\\nmicroaerobic','Reactor 2\\nmicroaerobic','C','D','E','F']\n",
    "if True:\n",
    "    import matplotlib.transforms as mtransforms\n",
    "    for name, ax in zip(reactornames,[ax1,ax2]):\n",
    "        trans = mtransforms.ScaledTranslation(5/72, -5/72, fig.dpi_scale_trans)\n",
    "        ax.text(0.0, 1.0, name, transform=ax.transAxes + trans,\n",
    "                verticalalignment='top', fontfamily='sans',\n",
    "                bbox=dict(facecolor='none', edgecolor='none', pad=3.0))\n",
    "\n",
    "fig.align_ylabels()\n",
    "fig.tight_layout()\n",
    "ax1_pos = ax1.get_position()\n",
    "ax2_pos = ax2.get_position()\n",
    "legend_x = (ax1_pos.x0 + ax2_pos.x1) / 2\n",
    "fig.legend(loc='center', bbox_to_anchor=(legend_x, .93), ncol=4)\n",
    "fig.tight_layout()\n",
    "\n",
    "fig.show()"
   ]
  },
  {
   "cell_type": "markdown",
   "id": "a25dffa4-5633-4b5e-9a49-974463b1d2d0",
   "metadata": {},
   "source": [
    "# SUPPLEMENTARY FIGURE S7"
   ]
  },
  {
   "cell_type": "code",
   "execution_count": 7,
   "id": "59aa13f0-0e8b-4d48-982c-73b7093ffb74",
   "metadata": {},
   "outputs": [
    {
     "data": {
      "image/png": "[encoded data removed]",
      "text/plain": [
       "<Figure size 400x350 with 3 Axes>"
      ]
     },
     "metadata": {},
     "output_type": "display_data"
    }
   ],
   "source": [
    "PROCESS_VERSION = \"conti_optP_minT\"\n",
    "tt,X1,X2,G1,G2,A1,A2,B1,B2 = process_parameters[PROCESS_VERSION][\"sol\"][\"input\"]\n",
    "\n",
    "fig = plt.figure(dpi=100,figsize=(4,3.5))\n",
    "\n",
    "# Set the centered xlabel on the hidden subplot\n",
    "ax0 = fig.add_subplot(111, frame_on=False)\n",
    "ax0.tick_params(labelcolor='none', top=False, bottom=False, left=False, right=False)\n",
    "ax0.grid(False)\n",
    "ax0.set_xlabel('time in h')\n",
    "\n",
    "ax1 = fig.add_subplot(121)\n",
    "ax2 = fig.add_subplot(122)\n",
    "\n",
    "ax1.plot(tt,X1,label=r\"$X$\",color=\"k\")\n",
    "ax2.plot(tt,X2,color=\"k\")\n",
    "ax1.plot(tt,G1,label=r\"$G$\",color=\"#77a5b8\")\n",
    "ax2.plot(tt,G2,color=\"#77a5b8\")\n",
    "ax1.plot(tt,A1,label=r\"$A$\",color=\"#84993a\")\n",
    "ax2.plot(tt,A2,color=\"#84993a\")\n",
    "ax1.plot(tt,B1,label=r\"$B$\",color=\"#c39e08\")\n",
    "ax2.plot(tt,B2,color=\"#c39e08\")\n",
    "ax1.set_title(\"~~\\n~~\")\n",
    "\n",
    "ax1.set_ylabel(r\"concentrations in g\\;L$^{-1}$\")\n",
    "\n",
    "for ax in [ax1,ax2]:\n",
    "    ax.set_ylim(0,process_parameters[PROCESS_VERSION][\"max_y\"])\n",
    "    ax.set_xlim(0,process_parameters[PROCESS_VERSION][\"t_end\"])\n",
    "\n",
    "ax2.set_yticklabels([])\n",
    "\n",
    "# Panel Legends\n",
    "if process_parameters[PROCESS_VERSION][\"id\"] == \"optP\":\n",
    "    reactornames = ['Reactor 1\\naerobic','Reactor 2\\nmicroaerobic','C','D','E','F']\n",
    "elif process_parameters[PROCESS_VERSION][\"id\"] == \"optP_minT\":\n",
    "    reactornames = ['Reactor 1\\n','Reactor 2\\nmicroaerobic','C','D','E','F']\n",
    "elif process_parameters[PROCESS_VERSION][\"id\"] == \"optT\":\n",
    "    reactornames = ['Reactor 1\\nmicroaerobic','Reactor 2\\nmicroaerobic','C','D','E','F']\n",
    "if True:\n",
    "    import matplotlib.transforms as mtransforms\n",
    "    for name, ax in zip(reactornames,[ax1,ax2]):\n",
    "        trans = mtransforms.ScaledTranslation(5/72, -5/72, fig.dpi_scale_trans)\n",
    "        ax.text(0.0, 1.0, name, transform=ax.transAxes + trans,\n",
    "                verticalalignment='top', fontfamily='sans',\n",
    "                bbox=dict(facecolor='none', edgecolor='none', pad=3.0))\n",
    "\n",
    "fig.align_ylabels()\n",
    "fig.tight_layout()\n",
    "ax1_pos = ax1.get_position()\n",
    "ax2_pos = ax2.get_position()\n",
    "legend_x = (ax1_pos.x0 + ax2_pos.x1) / 2\n",
    "fig.legend(loc='center', bbox_to_anchor=(legend_x, .93), ncol=4)\n",
    "fig.tight_layout()\n",
    "\n",
    "fig.show()"
   ]
  }
 ],
 "metadata": {
  "kernelspec": {
   "display_name": "2404test3.10",
   "language": "python",
   "name": "2404test3.10"
  },
  "language_info": {
   "codemirror_mode": {
    "name": "ipython",
    "version": 3
   },
   "file_extension": ".py",
   "mimetype": "text/x-python",
   "name": "python",
   "nbconvert_exporter": "python",
   "pygments_lexer": "ipython3",
   "version": "3.10.14"
  },
  "toc-autonumbering": true
 },
 "nbformat": 4,
 "nbformat_minor": 5
}
